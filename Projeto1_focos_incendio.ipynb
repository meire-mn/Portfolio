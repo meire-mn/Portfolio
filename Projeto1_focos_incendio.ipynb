{
 "cells": [
  {
   "cell_type": "markdown",
   "metadata": {},
   "source": [
    "Data Pipeline project presented at Ironhack in 11/10/2019\n",
    "The chosen dataset was obtained at the government open data website, it contains the heat focal points in Brasil from 1998 to 2016.\n",
    "The goal was to answer the questions below."
   ]
  },
  {
   "cell_type": "code",
   "execution_count": 1,
   "metadata": {},
   "outputs": [],
   "source": [
    "#number of fire points raised? #is the number of points related with the season of the year? \n",
    "#is the number of fire related with the agriculture and cattle farming? \n",
    "#gather rain data? (not answered) "
   ]
  },
  {
   "cell_type": "code",
   "execution_count": 1,
   "metadata": {},
   "outputs": [],
   "source": [
    "import pandas as pd\n",
    "import seaborn as sns\n",
    "import matplotlib.pyplot as plt\n",
    "%matplotlib inline"
   ]
  },
  {
   "cell_type": "code",
   "execution_count": 2,
   "metadata": {},
   "outputs": [],
   "source": [
    "df=pd.read_csv('focos.csv',sep=r\"\\t\", encoding='latin1', engine='python')"
   ]
  },
  {
   "cell_type": "markdown",
   "metadata": {},
   "source": [
    "Checking imported dataset"
   ]
  },
  {
   "cell_type": "code",
   "execution_count": 3,
   "metadata": {},
   "outputs": [
    {
     "data": {
      "text/html": [
       "<div>\n",
       "<style scoped>\n",
       "    .dataframe tbody tr th:only-of-type {\n",
       "        vertical-align: middle;\n",
       "    }\n",
       "\n",
       "    .dataframe tbody tr th {\n",
       "        vertical-align: top;\n",
       "    }\n",
       "\n",
       "    .dataframe thead th {\n",
       "        text-align: right;\n",
       "    }\n",
       "</style>\n",
       "<table border=\"1\" class=\"dataframe\">\n",
       "  <thead>\n",
       "    <tr style=\"text-align: right;\">\n",
       "      <th></th>\n",
       "      <th>\"Ano</th>\n",
       "      <th>Estado</th>\n",
       "      <th>Mês</th>\n",
       "      <th>Número</th>\n",
       "      <th>Período\"</th>\n",
       "    </tr>\n",
       "  </thead>\n",
       "  <tbody>\n",
       "    <tr>\n",
       "      <th>0</th>\n",
       "      <td>\"1998</td>\n",
       "      <td>Acre</td>\n",
       "      <td>Janeiro</td>\n",
       "      <td>0.0</td>\n",
       "      <td>01/01/1998\"</td>\n",
       "    </tr>\n",
       "    <tr>\n",
       "      <th>1</th>\n",
       "      <td>\"1999</td>\n",
       "      <td>Acre</td>\n",
       "      <td>Janeiro</td>\n",
       "      <td>0.0</td>\n",
       "      <td>01/01/1999\"</td>\n",
       "    </tr>\n",
       "    <tr>\n",
       "      <th>2</th>\n",
       "      <td>\"2000</td>\n",
       "      <td>Acre</td>\n",
       "      <td>Janeiro</td>\n",
       "      <td>0.0</td>\n",
       "      <td>01/01/2000\"</td>\n",
       "    </tr>\n",
       "    <tr>\n",
       "      <th>3</th>\n",
       "      <td>\"2001</td>\n",
       "      <td>Acre</td>\n",
       "      <td>Janeiro</td>\n",
       "      <td>0.0</td>\n",
       "      <td>01/01/2001\"</td>\n",
       "    </tr>\n",
       "    <tr>\n",
       "      <th>4</th>\n",
       "      <td>\"2002</td>\n",
       "      <td>Acre</td>\n",
       "      <td>Janeiro</td>\n",
       "      <td>0.0</td>\n",
       "      <td>01/01/2002\"</td>\n",
       "    </tr>\n",
       "  </tbody>\n",
       "</table>\n",
       "</div>"
      ],
      "text/plain": [
       "    \"Ano Estado      Mês  Número     Período\"\n",
       "0  \"1998   Acre  Janeiro     0.0  01/01/1998\"\n",
       "1  \"1999   Acre  Janeiro     0.0  01/01/1999\"\n",
       "2  \"2000   Acre  Janeiro     0.0  01/01/2000\"\n",
       "3  \"2001   Acre  Janeiro     0.0  01/01/2001\"\n",
       "4  \"2002   Acre  Janeiro     0.0  01/01/2002\""
      ]
     },
     "execution_count": 3,
     "metadata": {},
     "output_type": "execute_result"
    }
   ],
   "source": [
    "df.head()"
   ]
  },
  {
   "cell_type": "code",
   "execution_count": 4,
   "metadata": {},
   "outputs": [
    {
     "name": "stdout",
     "output_type": "stream",
     "text": [
      "<class 'pandas.core.frame.DataFrame'>\n",
      "RangeIndex: 6454 entries, 0 to 6453\n",
      "Data columns (total 5 columns):\n",
      "\"Ano        6454 non-null object\n",
      "Estado      6454 non-null object\n",
      "Mês         6454 non-null object\n",
      "Número      6454 non-null float64\n",
      "Período\"    6454 non-null object\n",
      "dtypes: float64(1), object(4)\n",
      "memory usage: 252.2+ KB\n"
     ]
    }
   ],
   "source": [
    "df.info()"
   ]
  },
  {
   "cell_type": "markdown",
   "metadata": {},
   "source": [
    "Rename columns"
   ]
  },
  {
   "cell_type": "code",
   "execution_count": 5,
   "metadata": {},
   "outputs": [],
   "source": [
    "df.columns=['year', 'state', 'month', 'number', 'date']"
   ]
  },
  {
   "cell_type": "markdown",
   "metadata": {},
   "source": [
    "Remove quotes from column 'year' and 'date' (wasn't able to remove during import)"
   ]
  },
  {
   "cell_type": "code",
   "execution_count": 6,
   "metadata": {},
   "outputs": [],
   "source": [
    "df['year']=df['year'].str.replace('\"','')"
   ]
  },
  {
   "cell_type": "code",
   "execution_count": 7,
   "metadata": {},
   "outputs": [],
   "source": [
    "df['date']=df['date'].str.replace('\"','')"
   ]
  },
  {
   "cell_type": "code",
   "execution_count": 8,
   "metadata": {},
   "outputs": [
    {
     "data": {
      "text/html": [
       "<div>\n",
       "<style scoped>\n",
       "    .dataframe tbody tr th:only-of-type {\n",
       "        vertical-align: middle;\n",
       "    }\n",
       "\n",
       "    .dataframe tbody tr th {\n",
       "        vertical-align: top;\n",
       "    }\n",
       "\n",
       "    .dataframe thead th {\n",
       "        text-align: right;\n",
       "    }\n",
       "</style>\n",
       "<table border=\"1\" class=\"dataframe\">\n",
       "  <thead>\n",
       "    <tr style=\"text-align: right;\">\n",
       "      <th></th>\n",
       "      <th>year</th>\n",
       "      <th>state</th>\n",
       "      <th>month</th>\n",
       "      <th>number</th>\n",
       "      <th>date</th>\n",
       "    </tr>\n",
       "  </thead>\n",
       "  <tbody>\n",
       "    <tr>\n",
       "      <th>6449</th>\n",
       "      <td>2012</td>\n",
       "      <td>Tocantins</td>\n",
       "      <td>Dezembro</td>\n",
       "      <td>128.0</td>\n",
       "      <td>01/01/2012</td>\n",
       "    </tr>\n",
       "    <tr>\n",
       "      <th>6450</th>\n",
       "      <td>2013</td>\n",
       "      <td>Tocantins</td>\n",
       "      <td>Dezembro</td>\n",
       "      <td>85.0</td>\n",
       "      <td>01/01/2013</td>\n",
       "    </tr>\n",
       "    <tr>\n",
       "      <th>6451</th>\n",
       "      <td>2014</td>\n",
       "      <td>Tocantins</td>\n",
       "      <td>Dezembro</td>\n",
       "      <td>223.0</td>\n",
       "      <td>01/01/2014</td>\n",
       "    </tr>\n",
       "    <tr>\n",
       "      <th>6452</th>\n",
       "      <td>2015</td>\n",
       "      <td>Tocantins</td>\n",
       "      <td>Dezembro</td>\n",
       "      <td>373.0</td>\n",
       "      <td>01/01/2015</td>\n",
       "    </tr>\n",
       "    <tr>\n",
       "      <th>6453</th>\n",
       "      <td>2016</td>\n",
       "      <td>Tocantins</td>\n",
       "      <td>Dezembro</td>\n",
       "      <td>119.0</td>\n",
       "      <td>01/01/2016</td>\n",
       "    </tr>\n",
       "  </tbody>\n",
       "</table>\n",
       "</div>"
      ],
      "text/plain": [
       "      year      state     month  number        date\n",
       "6449  2012  Tocantins  Dezembro   128.0  01/01/2012\n",
       "6450  2013  Tocantins  Dezembro    85.0  01/01/2013\n",
       "6451  2014  Tocantins  Dezembro   223.0  01/01/2014\n",
       "6452  2015  Tocantins  Dezembro   373.0  01/01/2015\n",
       "6453  2016  Tocantins  Dezembro   119.0  01/01/2016"
      ]
     },
     "execution_count": 8,
     "metadata": {},
     "output_type": "execute_result"
    }
   ],
   "source": [
    "df.tail()"
   ]
  },
  {
   "cell_type": "markdown",
   "metadata": {},
   "source": [
    "Replace values for 'month' column "
   ]
  },
  {
   "cell_type": "code",
   "execution_count": 9,
   "metadata": {},
   "outputs": [],
   "source": [
    "df['month']=df['month'].replace({'Janeiro':1, 'Fevereiro':2,'Março':3,'Abril':4,'Maio':5,'Junho':6,'Julho':7,'Agosto':8,'Setembro':9,'Outubro':10,'Novembro':11,'Dezembro':12})"
   ]
  },
  {
   "cell_type": "code",
   "execution_count": 10,
   "metadata": {},
   "outputs": [
    {
     "data": {
      "text/html": [
       "<div>\n",
       "<style scoped>\n",
       "    .dataframe tbody tr th:only-of-type {\n",
       "        vertical-align: middle;\n",
       "    }\n",
       "\n",
       "    .dataframe tbody tr th {\n",
       "        vertical-align: top;\n",
       "    }\n",
       "\n",
       "    .dataframe thead th {\n",
       "        text-align: right;\n",
       "    }\n",
       "</style>\n",
       "<table border=\"1\" class=\"dataframe\">\n",
       "  <thead>\n",
       "    <tr style=\"text-align: right;\">\n",
       "      <th></th>\n",
       "      <th>year</th>\n",
       "      <th>state</th>\n",
       "      <th>month</th>\n",
       "      <th>number</th>\n",
       "      <th>date</th>\n",
       "    </tr>\n",
       "  </thead>\n",
       "  <tbody>\n",
       "    <tr>\n",
       "      <th>6449</th>\n",
       "      <td>2012</td>\n",
       "      <td>Tocantins</td>\n",
       "      <td>12</td>\n",
       "      <td>128.0</td>\n",
       "      <td>01/01/2012</td>\n",
       "    </tr>\n",
       "    <tr>\n",
       "      <th>6450</th>\n",
       "      <td>2013</td>\n",
       "      <td>Tocantins</td>\n",
       "      <td>12</td>\n",
       "      <td>85.0</td>\n",
       "      <td>01/01/2013</td>\n",
       "    </tr>\n",
       "    <tr>\n",
       "      <th>6451</th>\n",
       "      <td>2014</td>\n",
       "      <td>Tocantins</td>\n",
       "      <td>12</td>\n",
       "      <td>223.0</td>\n",
       "      <td>01/01/2014</td>\n",
       "    </tr>\n",
       "    <tr>\n",
       "      <th>6452</th>\n",
       "      <td>2015</td>\n",
       "      <td>Tocantins</td>\n",
       "      <td>12</td>\n",
       "      <td>373.0</td>\n",
       "      <td>01/01/2015</td>\n",
       "    </tr>\n",
       "    <tr>\n",
       "      <th>6453</th>\n",
       "      <td>2016</td>\n",
       "      <td>Tocantins</td>\n",
       "      <td>12</td>\n",
       "      <td>119.0</td>\n",
       "      <td>01/01/2016</td>\n",
       "    </tr>\n",
       "  </tbody>\n",
       "</table>\n",
       "</div>"
      ],
      "text/plain": [
       "      year      state  month  number        date\n",
       "6449  2012  Tocantins     12   128.0  01/01/2012\n",
       "6450  2013  Tocantins     12    85.0  01/01/2013\n",
       "6451  2014  Tocantins     12   223.0  01/01/2014\n",
       "6452  2015  Tocantins     12   373.0  01/01/2015\n",
       "6453  2016  Tocantins     12   119.0  01/01/2016"
      ]
     },
     "execution_count": 10,
     "metadata": {},
     "output_type": "execute_result"
    }
   ],
   "source": [
    "df.tail()"
   ]
  },
  {
   "cell_type": "markdown",
   "metadata": {},
   "source": [
    "Drop 'date' column (incorrect month)"
   ]
  },
  {
   "cell_type": "code",
   "execution_count": 11,
   "metadata": {},
   "outputs": [],
   "source": [
    "df.drop('date',axis=1, inplace=True)"
   ]
  },
  {
   "cell_type": "markdown",
   "metadata": {},
   "source": [
    "'december' is missing for year 2017"
   ]
  },
  {
   "cell_type": "code",
   "execution_count": 12,
   "metadata": {},
   "outputs": [
    {
     "data": {
      "text/html": [
       "<div>\n",
       "<style scoped>\n",
       "    .dataframe tbody tr th:only-of-type {\n",
       "        vertical-align: middle;\n",
       "    }\n",
       "\n",
       "    .dataframe tbody tr th {\n",
       "        vertical-align: top;\n",
       "    }\n",
       "\n",
       "    .dataframe thead th {\n",
       "        text-align: right;\n",
       "    }\n",
       "</style>\n",
       "<table border=\"1\" class=\"dataframe\">\n",
       "  <thead>\n",
       "    <tr style=\"text-align: right;\">\n",
       "      <th></th>\n",
       "      <th>year</th>\n",
       "      <th>state</th>\n",
       "      <th>month</th>\n",
       "      <th>number</th>\n",
       "    </tr>\n",
       "  </thead>\n",
       "  <tbody>\n",
       "    <tr>\n",
       "      <th>6354</th>\n",
       "      <td>2017</td>\n",
       "      <td>Tocantins</td>\n",
       "      <td>7</td>\n",
       "      <td>2.397</td>\n",
       "    </tr>\n",
       "    <tr>\n",
       "      <th>6374</th>\n",
       "      <td>2017</td>\n",
       "      <td>Tocantins</td>\n",
       "      <td>8</td>\n",
       "      <td>3.536</td>\n",
       "    </tr>\n",
       "    <tr>\n",
       "      <th>6394</th>\n",
       "      <td>2017</td>\n",
       "      <td>Tocantins</td>\n",
       "      <td>9</td>\n",
       "      <td>10.737</td>\n",
       "    </tr>\n",
       "    <tr>\n",
       "      <th>6414</th>\n",
       "      <td>2017</td>\n",
       "      <td>Tocantins</td>\n",
       "      <td>10</td>\n",
       "      <td>2.969</td>\n",
       "    </tr>\n",
       "    <tr>\n",
       "      <th>6434</th>\n",
       "      <td>2017</td>\n",
       "      <td>Tocantins</td>\n",
       "      <td>11</td>\n",
       "      <td>434.000</td>\n",
       "    </tr>\n",
       "  </tbody>\n",
       "</table>\n",
       "</div>"
      ],
      "text/plain": [
       "      year      state  month   number\n",
       "6354  2017  Tocantins      7    2.397\n",
       "6374  2017  Tocantins      8    3.536\n",
       "6394  2017  Tocantins      9   10.737\n",
       "6414  2017  Tocantins     10    2.969\n",
       "6434  2017  Tocantins     11  434.000"
      ]
     },
     "execution_count": 12,
     "metadata": {},
     "output_type": "execute_result"
    }
   ],
   "source": [
    "df[df['year']=='2017'].tail()"
   ]
  },
  {
   "cell_type": "markdown",
   "metadata": {},
   "source": [
    "Drop rows from 2017 "
   ]
  },
  {
   "cell_type": "code",
   "execution_count": 13,
   "metadata": {},
   "outputs": [],
   "source": [
    "df.drop(df[df['year']=='2017'].index, inplace=True)"
   ]
  },
  {
   "cell_type": "code",
   "execution_count": 14,
   "metadata": {},
   "outputs": [
    {
     "name": "stdout",
     "output_type": "stream",
     "text": [
      "<class 'pandas.core.frame.DataFrame'>\n",
      "Int64Index: 6156 entries, 0 to 6453\n",
      "Data columns (total 4 columns):\n",
      "year      6156 non-null object\n",
      "state     6156 non-null object\n",
      "month     6156 non-null int64\n",
      "number    6156 non-null float64\n",
      "dtypes: float64(1), int64(1), object(2)\n",
      "memory usage: 240.5+ KB\n"
     ]
    }
   ],
   "source": [
    "df.info(10) "
   ]
  },
  {
   "cell_type": "markdown",
   "metadata": {},
   "source": [
    "Convert 'number' column to integer"
   ]
  },
  {
   "cell_type": "code",
   "execution_count": 15,
   "metadata": {},
   "outputs": [],
   "source": [
    "df['number']=df['number'].astype('int')"
   ]
  },
  {
   "cell_type": "code",
   "execution_count": 16,
   "metadata": {},
   "outputs": [
    {
     "data": {
      "text/plain": [
       "count    6156.000000\n",
       "mean      107.519168\n",
       "std       189.488630\n",
       "min         0.000000\n",
       "25%         3.000000\n",
       "50%        23.000000\n",
       "75%       112.250000\n",
       "max       998.000000\n",
       "Name: number, dtype: float64"
      ]
     },
     "execution_count": 16,
     "metadata": {},
     "output_type": "execute_result"
    }
   ],
   "source": [
    "df['number'].describe()"
   ]
  },
  {
   "cell_type": "code",
   "execution_count": 17,
   "metadata": {},
   "outputs": [
    {
     "data": {
      "text/plain": [
       "array(['1998', '1999', '2000', '2001', '2002', '2003', '2004', '2005',\n",
       "       '2006', '2007', '2008', '2009', '2010', '2011', '2012', '2013',\n",
       "       '2014', '2015', '2016'], dtype=object)"
      ]
     },
     "execution_count": 17,
     "metadata": {},
     "output_type": "execute_result"
    }
   ],
   "source": [
    "df.year.unique()"
   ]
  },
  {
   "cell_type": "markdown",
   "metadata": {},
   "source": [
    "Group by year, it shows the sum of fires per year"
   ]
  },
  {
   "cell_type": "code",
   "execution_count": 18,
   "metadata": {},
   "outputs": [
    {
     "data": {
      "text/html": [
       "<div>\n",
       "<style scoped>\n",
       "    .dataframe tbody tr th:only-of-type {\n",
       "        vertical-align: middle;\n",
       "    }\n",
       "\n",
       "    .dataframe tbody tr th {\n",
       "        vertical-align: top;\n",
       "    }\n",
       "\n",
       "    .dataframe thead th {\n",
       "        text-align: right;\n",
       "    }\n",
       "</style>\n",
       "<table border=\"1\" class=\"dataframe\">\n",
       "  <thead>\n",
       "    <tr style=\"text-align: right;\">\n",
       "      <th></th>\n",
       "      <th>year</th>\n",
       "      <th>month</th>\n",
       "      <th>number</th>\n",
       "    </tr>\n",
       "  </thead>\n",
       "  <tbody>\n",
       "    <tr>\n",
       "      <th>0</th>\n",
       "      <td>1998</td>\n",
       "      <td>2106</td>\n",
       "      <td>19999</td>\n",
       "    </tr>\n",
       "    <tr>\n",
       "      <th>1</th>\n",
       "      <td>1999</td>\n",
       "      <td>2106</td>\n",
       "      <td>26869</td>\n",
       "    </tr>\n",
       "    <tr>\n",
       "      <th>2</th>\n",
       "      <td>2000</td>\n",
       "      <td>2106</td>\n",
       "      <td>27341</td>\n",
       "    </tr>\n",
       "    <tr>\n",
       "      <th>3</th>\n",
       "      <td>2001</td>\n",
       "      <td>2106</td>\n",
       "      <td>29056</td>\n",
       "    </tr>\n",
       "    <tr>\n",
       "      <th>4</th>\n",
       "      <td>2002</td>\n",
       "      <td>2106</td>\n",
       "      <td>37369</td>\n",
       "    </tr>\n",
       "    <tr>\n",
       "      <th>5</th>\n",
       "      <td>2003</td>\n",
       "      <td>2106</td>\n",
       "      <td>42737</td>\n",
       "    </tr>\n",
       "    <tr>\n",
       "      <th>6</th>\n",
       "      <td>2004</td>\n",
       "      <td>2106</td>\n",
       "      <td>38427</td>\n",
       "    </tr>\n",
       "    <tr>\n",
       "      <th>7</th>\n",
       "      <td>2005</td>\n",
       "      <td>2106</td>\n",
       "      <td>34984</td>\n",
       "    </tr>\n",
       "    <tr>\n",
       "      <th>8</th>\n",
       "      <td>2006</td>\n",
       "      <td>2106</td>\n",
       "      <td>33819</td>\n",
       "    </tr>\n",
       "    <tr>\n",
       "      <th>9</th>\n",
       "      <td>2007</td>\n",
       "      <td>2106</td>\n",
       "      <td>33017</td>\n",
       "    </tr>\n",
       "    <tr>\n",
       "      <th>10</th>\n",
       "      <td>2008</td>\n",
       "      <td>2106</td>\n",
       "      <td>29363</td>\n",
       "    </tr>\n",
       "    <tr>\n",
       "      <th>11</th>\n",
       "      <td>2009</td>\n",
       "      <td>2106</td>\n",
       "      <td>39104</td>\n",
       "    </tr>\n",
       "    <tr>\n",
       "      <th>12</th>\n",
       "      <td>2010</td>\n",
       "      <td>2106</td>\n",
       "      <td>37015</td>\n",
       "    </tr>\n",
       "    <tr>\n",
       "      <th>13</th>\n",
       "      <td>2011</td>\n",
       "      <td>2106</td>\n",
       "      <td>34619</td>\n",
       "    </tr>\n",
       "    <tr>\n",
       "      <th>14</th>\n",
       "      <td>2012</td>\n",
       "      <td>2106</td>\n",
       "      <td>40065</td>\n",
       "    </tr>\n",
       "    <tr>\n",
       "      <th>15</th>\n",
       "      <td>2013</td>\n",
       "      <td>2106</td>\n",
       "      <td>35130</td>\n",
       "    </tr>\n",
       "    <tr>\n",
       "      <th>16</th>\n",
       "      <td>2014</td>\n",
       "      <td>2106</td>\n",
       "      <td>39601</td>\n",
       "    </tr>\n",
       "    <tr>\n",
       "      <th>17</th>\n",
       "      <td>2015</td>\n",
       "      <td>2106</td>\n",
       "      <td>41184</td>\n",
       "    </tr>\n",
       "    <tr>\n",
       "      <th>18</th>\n",
       "      <td>2016</td>\n",
       "      <td>2106</td>\n",
       "      <td>42189</td>\n",
       "    </tr>\n",
       "  </tbody>\n",
       "</table>\n",
       "</div>"
      ],
      "text/plain": [
       "    year  month  number\n",
       "0   1998   2106   19999\n",
       "1   1999   2106   26869\n",
       "2   2000   2106   27341\n",
       "3   2001   2106   29056\n",
       "4   2002   2106   37369\n",
       "5   2003   2106   42737\n",
       "6   2004   2106   38427\n",
       "7   2005   2106   34984\n",
       "8   2006   2106   33819\n",
       "9   2007   2106   33017\n",
       "10  2008   2106   29363\n",
       "11  2009   2106   39104\n",
       "12  2010   2106   37015\n",
       "13  2011   2106   34619\n",
       "14  2012   2106   40065\n",
       "15  2013   2106   35130\n",
       "16  2014   2106   39601\n",
       "17  2015   2106   41184\n",
       "18  2016   2106   42189"
      ]
     },
     "execution_count": 18,
     "metadata": {},
     "output_type": "execute_result"
    }
   ],
   "source": [
    "years=df.groupby(['year'],as_index=False).sum()\n",
    "years"
   ]
  },
  {
   "cell_type": "code",
   "execution_count": 19,
   "metadata": {},
   "outputs": [
    {
     "data": {
      "image/png": "[encoded data removed]",
      "text/plain": [
       "<Figure size 720x432 with 1 Axes>"
      ]
     },
     "metadata": {
      "needs_background": "light"
     },
     "output_type": "display_data"
    }
   ],
   "source": [
    "plt.figure(figsize = (10,6))\n",
    "ax=sns.lineplot(x='year',y='number',data=years,)\n",
    "plt.title('Fire points per year')\n",
    "plt.savefig('fire_per_year.png')"
   ]
  },
  {
   "cell_type": "markdown",
   "metadata": {},
   "source": [
    "States with higher number of fire points"
   ]
  },
  {
   "cell_type": "code",
   "execution_count": 45,
   "metadata": {},
   "outputs": [
    {
     "data": {
      "text/html": [
       "<div>\n",
       "<style scoped>\n",
       "    .dataframe tbody tr th:only-of-type {\n",
       "        vertical-align: middle;\n",
       "    }\n",
       "\n",
       "    .dataframe tbody tr th {\n",
       "        vertical-align: top;\n",
       "    }\n",
       "\n",
       "    .dataframe thead th {\n",
       "        text-align: right;\n",
       "    }\n",
       "</style>\n",
       "<table border=\"1\" class=\"dataframe\">\n",
       "  <thead>\n",
       "    <tr style=\"text-align: right;\">\n",
       "      <th></th>\n",
       "      <th>state</th>\n",
       "      <th>number</th>\n",
       "    </tr>\n",
       "  </thead>\n",
       "  <tbody>\n",
       "    <tr>\n",
       "      <th>25</th>\n",
       "      <td>São Paulo</td>\n",
       "      <td>48578</td>\n",
       "    </tr>\n",
       "    <tr>\n",
       "      <th>11</th>\n",
       "      <td>Mato Grosso do Sul</td>\n",
       "      <td>45935</td>\n",
       "    </tr>\n",
       "    <tr>\n",
       "      <th>10</th>\n",
       "      <td>Mato Grosso</td>\n",
       "      <td>44586</td>\n",
       "    </tr>\n",
       "    <tr>\n",
       "      <th>4</th>\n",
       "      <td>Bahia</td>\n",
       "      <td>43277</td>\n",
       "    </tr>\n",
       "    <tr>\n",
       "      <th>13</th>\n",
       "      <td>Paraná</td>\n",
       "      <td>36887</td>\n",
       "    </tr>\n",
       "    <tr>\n",
       "      <th>17</th>\n",
       "      <td>Piauí</td>\n",
       "      <td>36290</td>\n",
       "    </tr>\n",
       "    <tr>\n",
       "      <th>8</th>\n",
       "      <td>Goiás</td>\n",
       "      <td>36097</td>\n",
       "    </tr>\n",
       "    <tr>\n",
       "      <th>12</th>\n",
       "      <td>Minas Gerais</td>\n",
       "      <td>35872</td>\n",
       "    </tr>\n",
       "    <tr>\n",
       "      <th>26</th>\n",
       "      <td>Tocantins</td>\n",
       "      <td>32299</td>\n",
       "    </tr>\n",
       "    <tr>\n",
       "      <th>3</th>\n",
       "      <td>Amazonas</td>\n",
       "      <td>29731</td>\n",
       "    </tr>\n",
       "    <tr>\n",
       "      <th>5</th>\n",
       "      <td>Ceará</td>\n",
       "      <td>27860</td>\n",
       "    </tr>\n",
       "    <tr>\n",
       "      <th>16</th>\n",
       "      <td>Pernambuco</td>\n",
       "      <td>23976</td>\n",
       "    </tr>\n",
       "    <tr>\n",
       "      <th>9</th>\n",
       "      <td>Maranhão</td>\n",
       "      <td>23671</td>\n",
       "    </tr>\n",
       "    <tr>\n",
       "      <th>15</th>\n",
       "      <td>Pará</td>\n",
       "      <td>23290</td>\n",
       "    </tr>\n",
       "    <tr>\n",
       "      <th>22</th>\n",
       "      <td>Roraima</td>\n",
       "      <td>23283</td>\n",
       "    </tr>\n",
       "    <tr>\n",
       "      <th>23</th>\n",
       "      <td>Santa Catarina</td>\n",
       "      <td>22005</td>\n",
       "    </tr>\n",
       "    <tr>\n",
       "      <th>19</th>\n",
       "      <td>Rio Grande do Sul</td>\n",
       "      <td>21456</td>\n",
       "    </tr>\n",
       "    <tr>\n",
       "      <th>2</th>\n",
       "      <td>Amapá</td>\n",
       "      <td>20366</td>\n",
       "    </tr>\n",
       "    <tr>\n",
       "      <th>21</th>\n",
       "      <td>Rondônia</td>\n",
       "      <td>19558</td>\n",
       "    </tr>\n",
       "    <tr>\n",
       "      <th>0</th>\n",
       "      <td>Acre</td>\n",
       "      <td>17835</td>\n",
       "    </tr>\n",
       "    <tr>\n",
       "      <th>14</th>\n",
       "      <td>Paraíba</td>\n",
       "      <td>12493</td>\n",
       "    </tr>\n",
       "    <tr>\n",
       "      <th>20</th>\n",
       "      <td>Rio de Janeiro</td>\n",
       "      <td>10306</td>\n",
       "    </tr>\n",
       "    <tr>\n",
       "      <th>18</th>\n",
       "      <td>Rio Grande do Norte</td>\n",
       "      <td>9127</td>\n",
       "    </tr>\n",
       "    <tr>\n",
       "      <th>7</th>\n",
       "      <td>Espírito Santo</td>\n",
       "      <td>6312</td>\n",
       "    </tr>\n",
       "    <tr>\n",
       "      <th>1</th>\n",
       "      <td>Alagoas</td>\n",
       "      <td>4485</td>\n",
       "    </tr>\n",
       "    <tr>\n",
       "      <th>24</th>\n",
       "      <td>Sergipe</td>\n",
       "      <td>3162</td>\n",
       "    </tr>\n",
       "    <tr>\n",
       "      <th>6</th>\n",
       "      <td>Distrito Federal</td>\n",
       "      <td>3151</td>\n",
       "    </tr>\n",
       "  </tbody>\n",
       "</table>\n",
       "</div>"
      ],
      "text/plain": [
       "                  state  number\n",
       "25            São Paulo   48578\n",
       "11   Mato Grosso do Sul   45935\n",
       "10          Mato Grosso   44586\n",
       "4                 Bahia   43277\n",
       "13               Paraná   36887\n",
       "17                Piauí   36290\n",
       "8                 Goiás   36097\n",
       "12         Minas Gerais   35872\n",
       "26            Tocantins   32299\n",
       "3              Amazonas   29731\n",
       "5                 Ceará   27860\n",
       "16           Pernambuco   23976\n",
       "9              Maranhão   23671\n",
       "15                 Pará   23290\n",
       "22              Roraima   23283\n",
       "23       Santa Catarina   22005\n",
       "19    Rio Grande do Sul   21456\n",
       "2                 Amapá   20366\n",
       "21             Rondônia   19558\n",
       "0                  Acre   17835\n",
       "14              Paraíba   12493\n",
       "20       Rio de Janeiro   10306\n",
       "18  Rio Grande do Norte    9127\n",
       "7        Espírito Santo    6312\n",
       "1               Alagoas    4485\n",
       "24              Sergipe    3162\n",
       "6      Distrito Federal    3151"
      ]
     },
     "execution_count": 45,
     "metadata": {},
     "output_type": "execute_result"
    }
   ],
   "source": [
    "states=df.groupby(['state'], as_index=False)['number'].sum().sort_values(by='number',ascending=False)\n",
    "states"
   ]
  },
  {
   "cell_type": "code",
   "execution_count": 46,
   "metadata": {},
   "outputs": [
    {
     "data": {
      "text/plain": [
       "Index(['state', 'number'], dtype='object')"
      ]
     },
     "execution_count": 46,
     "metadata": {},
     "output_type": "execute_result"
    }
   ],
   "source": [
    "states.columns"
   ]
  },
  {
   "cell_type": "markdown",
   "metadata": {},
   "source": [
    "Bar graph showing states with higher number of fire points"
   ]
  },
  {
   "cell_type": "code",
   "execution_count": 48,
   "metadata": {},
   "outputs": [
    {
     "data": {
      "image/png": "[encoded data removed]",
      "text/plain": [
       "<Figure size 1440x432 with 1 Axes>"
      ]
     },
     "metadata": {
      "needs_background": "light"
     },
     "output_type": "display_data"
    }
   ],
   "source": [
    "plt.figure(figsize = (20,6))\n",
    "sns.barplot(x='state',y='number',data=states)\n",
    "plt.xticks(rotation=90)\n",
    "plt.savefig('fire_per_state.png')"
   ]
  },
  {
   "cell_type": "markdown",
   "metadata": {},
   "source": [
    "States of the 'legal Amazon'"
   ]
  },
  {
   "cell_type": "code",
   "execution_count": 19,
   "metadata": {},
   "outputs": [],
   "source": [
    "legal=['Acre', 'Amapá', 'Amazonas', 'Mato Grosso', 'Pará', 'Rondônia', 'Roraima', 'Tocantins', 'Maranhão']\n",
    "legal_five=['Amazonas', 'Mato Grosso', 'Pará', 'Tocantins', 'Maranhão']"
   ]
  },
  {
   "cell_type": "markdown",
   "metadata": {},
   "source": [
    "Fire points for the legal Amazon states"
   ]
  },
  {
   "cell_type": "code",
   "execution_count": 350,
   "metadata": {},
   "outputs": [],
   "source": [
    "state_year = df[df['state'].isin(legal)].groupby(by = ['year','state']).sum().reset_index()"
   ]
  },
  {
   "cell_type": "markdown",
   "metadata": {},
   "source": [
    "Fire points for the top 5 legal Amazon states"
   ]
  },
  {
   "cell_type": "code",
   "execution_count": 20,
   "metadata": {},
   "outputs": [],
   "source": [
    "state_year5 = df[df['state'].isin(legal_five)].groupby(by = ['year','state']).sum().reset_index()"
   ]
  },
  {
   "cell_type": "code",
   "execution_count": 351,
   "metadata": {},
   "outputs": [
    {
     "data": {
      "text/html": [
       "<div>\n",
       "<style scoped>\n",
       "    .dataframe tbody tr th:only-of-type {\n",
       "        vertical-align: middle;\n",
       "    }\n",
       "\n",
       "    .dataframe tbody tr th {\n",
       "        vertical-align: top;\n",
       "    }\n",
       "\n",
       "    .dataframe thead th {\n",
       "        text-align: right;\n",
       "    }\n",
       "</style>\n",
       "<table border=\"1\" class=\"dataframe\">\n",
       "  <thead>\n",
       "    <tr style=\"text-align: right;\">\n",
       "      <th></th>\n",
       "      <th>year</th>\n",
       "      <th>state</th>\n",
       "      <th>month</th>\n",
       "      <th>number</th>\n",
       "    </tr>\n",
       "  </thead>\n",
       "  <tbody>\n",
       "    <tr>\n",
       "      <th>0</th>\n",
       "      <td>1998</td>\n",
       "      <td>Acre</td>\n",
       "      <td>78</td>\n",
       "      <td>730</td>\n",
       "    </tr>\n",
       "    <tr>\n",
       "      <th>1</th>\n",
       "      <td>1998</td>\n",
       "      <td>Amapá</td>\n",
       "      <td>78</td>\n",
       "      <td>278</td>\n",
       "    </tr>\n",
       "    <tr>\n",
       "      <th>2</th>\n",
       "      <td>1998</td>\n",
       "      <td>Amazonas</td>\n",
       "      <td>78</td>\n",
       "      <td>946</td>\n",
       "    </tr>\n",
       "    <tr>\n",
       "      <th>3</th>\n",
       "      <td>1998</td>\n",
       "      <td>Maranhão</td>\n",
       "      <td>78</td>\n",
       "      <td>364</td>\n",
       "    </tr>\n",
       "    <tr>\n",
       "      <th>4</th>\n",
       "      <td>1998</td>\n",
       "      <td>Mato Grosso</td>\n",
       "      <td>78</td>\n",
       "      <td>290</td>\n",
       "    </tr>\n",
       "  </tbody>\n",
       "</table>\n",
       "</div>"
      ],
      "text/plain": [
       "   year        state  month  number\n",
       "0  1998         Acre     78     730\n",
       "1  1998        Amapá     78     278\n",
       "2  1998     Amazonas     78     946\n",
       "3  1998     Maranhão     78     364\n",
       "4  1998  Mato Grosso     78     290"
      ]
     },
     "execution_count": 351,
     "metadata": {},
     "output_type": "execute_result"
    }
   ],
   "source": [
    "state_year.head()"
   ]
  },
  {
   "cell_type": "code",
   "execution_count": 469,
   "metadata": {},
   "outputs": [
    {
     "data": {
      "image/png": "[encoded data removed]",
      "text/plain": [
       "<Figure size 720x432 with 1 Axes>"
      ]
     },
     "metadata": {
      "needs_background": "light"
     },
     "output_type": "display_data"
    }
   ],
   "source": [
    "plt.figure(figsize = (10,6))\n",
    "sns.lineplot(x = 'year', y = 'number', data = state_year, hue = 'state')\n",
    "plt.title('Fires for legal Amazon')\n",
    "plt.savefig('fire_legal_amz.png')"
   ]
  },
  {
   "cell_type": "code",
   "execution_count": 23,
   "metadata": {},
   "outputs": [
    {
     "data": {
      "image/png": "[encoded data removed]",
      "text/plain": [
       "<Figure size 720x432 with 1 Axes>"
      ]
     },
     "metadata": {
      "needs_background": "light"
     },
     "output_type": "display_data"
    }
   ],
   "source": [
    "plt.figure(figsize = (10,6))\n",
    "sns.lineplot(x = 'year', y = 'number', data = state_year5, hue = 'state')\n",
    "plt.title('Fires for top 5 legal Amazon states')\n",
    "plt.savefig('fire_legal_amz5.png')"
   ]
  },
  {
   "cell_type": "markdown",
   "metadata": {},
   "source": [
    "Group by month, it shows the total amount of fires per month"
   ]
  },
  {
   "cell_type": "code",
   "execution_count": 464,
   "metadata": {},
   "outputs": [
    {
     "data": {
      "text/html": [
       "<div>\n",
       "<style scoped>\n",
       "    .dataframe tbody tr th:only-of-type {\n",
       "        vertical-align: middle;\n",
       "    }\n",
       "\n",
       "    .dataframe tbody tr th {\n",
       "        vertical-align: top;\n",
       "    }\n",
       "\n",
       "    .dataframe thead th {\n",
       "        text-align: right;\n",
       "    }\n",
       "</style>\n",
       "<table border=\"1\" class=\"dataframe\">\n",
       "  <thead>\n",
       "    <tr style=\"text-align: right;\">\n",
       "      <th></th>\n",
       "      <th>month</th>\n",
       "      <th>number</th>\n",
       "    </tr>\n",
       "  </thead>\n",
       "  <tbody>\n",
       "    <tr>\n",
       "      <th>0</th>\n",
       "      <td>1</td>\n",
       "      <td>47747.844</td>\n",
       "    </tr>\n",
       "    <tr>\n",
       "      <th>1</th>\n",
       "      <td>2</td>\n",
       "      <td>30848.050</td>\n",
       "    </tr>\n",
       "    <tr>\n",
       "      <th>2</th>\n",
       "      <td>3</td>\n",
       "      <td>30717.405</td>\n",
       "    </tr>\n",
       "    <tr>\n",
       "      <th>3</th>\n",
       "      <td>4</td>\n",
       "      <td>28188.770</td>\n",
       "    </tr>\n",
       "    <tr>\n",
       "      <th>4</th>\n",
       "      <td>5</td>\n",
       "      <td>34731.363</td>\n",
       "    </tr>\n",
       "    <tr>\n",
       "      <th>5</th>\n",
       "      <td>6</td>\n",
       "      <td>56010.675</td>\n",
       "    </tr>\n",
       "    <tr>\n",
       "      <th>6</th>\n",
       "      <td>7</td>\n",
       "      <td>92326.113</td>\n",
       "    </tr>\n",
       "    <tr>\n",
       "      <th>7</th>\n",
       "      <td>8</td>\n",
       "      <td>88050.435</td>\n",
       "    </tr>\n",
       "    <tr>\n",
       "      <th>8</th>\n",
       "      <td>9</td>\n",
       "      <td>58578.305</td>\n",
       "    </tr>\n",
       "    <tr>\n",
       "      <th>9</th>\n",
       "      <td>10</td>\n",
       "      <td>88681.579</td>\n",
       "    </tr>\n",
       "    <tr>\n",
       "      <th>10</th>\n",
       "      <td>11</td>\n",
       "      <td>85508.054</td>\n",
       "    </tr>\n",
       "    <tr>\n",
       "      <th>11</th>\n",
       "      <td>12</td>\n",
       "      <td>57535.480</td>\n",
       "    </tr>\n",
       "  </tbody>\n",
       "</table>\n",
       "</div>"
      ],
      "text/plain": [
       "    month     number\n",
       "0       1  47747.844\n",
       "1       2  30848.050\n",
       "2       3  30717.405\n",
       "3       4  28188.770\n",
       "4       5  34731.363\n",
       "5       6  56010.675\n",
       "6       7  92326.113\n",
       "7       8  88050.435\n",
       "8       9  58578.305\n",
       "9      10  88681.579\n",
       "10     11  85508.054\n",
       "11     12  57535.480"
      ]
     },
     "execution_count": 464,
     "metadata": {},
     "output_type": "execute_result"
    }
   ],
   "source": [
    "months=df.groupby(['month']).sum().reset_index()\n",
    "months"
   ]
  },
  {
   "cell_type": "code",
   "execution_count": 465,
   "metadata": {},
   "outputs": [
    {
     "data": {
      "image/png": "[encoded data removed]",
      "text/plain": [
       "<Figure size 720x432 with 1 Axes>"
      ]
     },
     "metadata": {
      "needs_background": "light"
     },
     "output_type": "display_data"
    }
   ],
   "source": [
    "plt.figure(figsize = (10,6))\n",
    "sns.lineplot(x='month',y='number',data=months)\n",
    "plt.title('Fire points per month')\n",
    "plt.savefig('fire_per_month.png')"
   ]
  },
  {
   "cell_type": "markdown",
   "metadata": {},
   "source": [
    "Fire points per month per year"
   ]
  },
  {
   "cell_type": "code",
   "execution_count": 467,
   "metadata": {},
   "outputs": [
    {
     "data": {
      "text/html": [
       "<div>\n",
       "<style scoped>\n",
       "    .dataframe tbody tr th:only-of-type {\n",
       "        vertical-align: middle;\n",
       "    }\n",
       "\n",
       "    .dataframe tbody tr th {\n",
       "        vertical-align: top;\n",
       "    }\n",
       "\n",
       "    .dataframe thead th {\n",
       "        text-align: right;\n",
       "    }\n",
       "</style>\n",
       "<table border=\"1\" class=\"dataframe\">\n",
       "  <thead>\n",
       "    <tr style=\"text-align: right;\">\n",
       "      <th>year</th>\n",
       "      <th>1998</th>\n",
       "      <th>1999</th>\n",
       "      <th>2000</th>\n",
       "      <th>2001</th>\n",
       "      <th>2002</th>\n",
       "      <th>2003</th>\n",
       "      <th>2004</th>\n",
       "      <th>2005</th>\n",
       "      <th>2006</th>\n",
       "      <th>2007</th>\n",
       "      <th>2008</th>\n",
       "      <th>2009</th>\n",
       "      <th>2010</th>\n",
       "      <th>2011</th>\n",
       "      <th>2012</th>\n",
       "      <th>2013</th>\n",
       "      <th>2014</th>\n",
       "      <th>2015</th>\n",
       "      <th>2016</th>\n",
       "      <th>2017</th>\n",
       "    </tr>\n",
       "    <tr>\n",
       "      <th>month</th>\n",
       "      <th></th>\n",
       "      <th></th>\n",
       "      <th></th>\n",
       "      <th></th>\n",
       "      <th></th>\n",
       "      <th></th>\n",
       "      <th></th>\n",
       "      <th></th>\n",
       "      <th></th>\n",
       "      <th></th>\n",
       "      <th></th>\n",
       "      <th></th>\n",
       "      <th></th>\n",
       "      <th></th>\n",
       "      <th></th>\n",
       "      <th></th>\n",
       "      <th></th>\n",
       "      <th></th>\n",
       "      <th></th>\n",
       "      <th></th>\n",
       "    </tr>\n",
       "  </thead>\n",
       "  <tbody>\n",
       "    <tr>\n",
       "      <th>1</th>\n",
       "      <td>0.000000</td>\n",
       "      <td>40.037037</td>\n",
       "      <td>28.814815</td>\n",
       "      <td>20.259259</td>\n",
       "      <td>61.259259</td>\n",
       "      <td>188.555556</td>\n",
       "      <td>100.185185</td>\n",
       "      <td>119.398815</td>\n",
       "      <td>120.555556</td>\n",
       "      <td>113.148148</td>\n",
       "      <td>78.703704</td>\n",
       "      <td>105.481481</td>\n",
       "      <td>105.592593</td>\n",
       "      <td>52.444444</td>\n",
       "      <td>92.259259</td>\n",
       "      <td>75.740741</td>\n",
       "      <td>97.518519</td>\n",
       "      <td>171.666667</td>\n",
       "      <td>107.632444</td>\n",
       "      <td>86.000000</td>\n",
       "    </tr>\n",
       "    <tr>\n",
       "      <th>2</th>\n",
       "      <td>0.000000</td>\n",
       "      <td>47.555556</td>\n",
       "      <td>20.777778</td>\n",
       "      <td>39.222222</td>\n",
       "      <td>58.148148</td>\n",
       "      <td>88.814815</td>\n",
       "      <td>46.481481</td>\n",
       "      <td>79.740741</td>\n",
       "      <td>61.703704</td>\n",
       "      <td>64.851852</td>\n",
       "      <td>47.222222</td>\n",
       "      <td>42.222222</td>\n",
       "      <td>88.370370</td>\n",
       "      <td>36.037037</td>\n",
       "      <td>53.185185</td>\n",
       "      <td>58.777778</td>\n",
       "      <td>57.296296</td>\n",
       "      <td>85.518519</td>\n",
       "      <td>114.742593</td>\n",
       "      <td>51.851852</td>\n",
       "    </tr>\n",
       "    <tr>\n",
       "      <th>3</th>\n",
       "      <td>0.000000</td>\n",
       "      <td>24.703704</td>\n",
       "      <td>31.407407</td>\n",
       "      <td>5.966963</td>\n",
       "      <td>62.185185</td>\n",
       "      <td>59.967815</td>\n",
       "      <td>75.555556</td>\n",
       "      <td>63.185185</td>\n",
       "      <td>65.703704</td>\n",
       "      <td>79.111111</td>\n",
       "      <td>45.888889</td>\n",
       "      <td>51.555556</td>\n",
       "      <td>89.518519</td>\n",
       "      <td>34.703704</td>\n",
       "      <td>76.222222</td>\n",
       "      <td>72.925926</td>\n",
       "      <td>82.370370</td>\n",
       "      <td>81.555556</td>\n",
       "      <td>60.450593</td>\n",
       "      <td>74.703704</td>\n",
       "    </tr>\n",
       "    <tr>\n",
       "      <th>4</th>\n",
       "      <td>0.000000</td>\n",
       "      <td>26.555556</td>\n",
       "      <td>19.888889</td>\n",
       "      <td>40.037037</td>\n",
       "      <td>62.296296</td>\n",
       "      <td>99.148148</td>\n",
       "      <td>49.444444</td>\n",
       "      <td>37.444444</td>\n",
       "      <td>29.333333</td>\n",
       "      <td>15.370370</td>\n",
       "      <td>46.407407</td>\n",
       "      <td>39.925926</td>\n",
       "      <td>81.481481</td>\n",
       "      <td>42.666667</td>\n",
       "      <td>81.222222</td>\n",
       "      <td>50.814815</td>\n",
       "      <td>87.333333</td>\n",
       "      <td>95.296296</td>\n",
       "      <td>81.621111</td>\n",
       "      <td>57.740741</td>\n",
       "    </tr>\n",
       "    <tr>\n",
       "      <th>5</th>\n",
       "      <td>0.000000</td>\n",
       "      <td>67.111111</td>\n",
       "      <td>33.488667</td>\n",
       "      <td>33.266407</td>\n",
       "      <td>47.871407</td>\n",
       "      <td>64.703704</td>\n",
       "      <td>41.644926</td>\n",
       "      <td>58.171889</td>\n",
       "      <td>29.925926</td>\n",
       "      <td>47.629630</td>\n",
       "      <td>20.481481</td>\n",
       "      <td>96.037037</td>\n",
       "      <td>80.937519</td>\n",
       "      <td>73.518519</td>\n",
       "      <td>120.000000</td>\n",
       "      <td>80.185185</td>\n",
       "      <td>118.111111</td>\n",
       "      <td>88.296296</td>\n",
       "      <td>92.151148</td>\n",
       "      <td>92.814815</td>\n",
       "    </tr>\n",
       "    <tr>\n",
       "      <th>6</th>\n",
       "      <td>50.081519</td>\n",
       "      <td>53.081519</td>\n",
       "      <td>71.161407</td>\n",
       "      <td>65.728333</td>\n",
       "      <td>109.958444</td>\n",
       "      <td>81.381963</td>\n",
       "      <td>125.218222</td>\n",
       "      <td>130.344222</td>\n",
       "      <td>72.888889</td>\n",
       "      <td>96.975519</td>\n",
       "      <td>47.666667</td>\n",
       "      <td>109.703704</td>\n",
       "      <td>96.963889</td>\n",
       "      <td>169.555556</td>\n",
       "      <td>157.061148</td>\n",
       "      <td>99.489370</td>\n",
       "      <td>122.932111</td>\n",
       "      <td>120.761185</td>\n",
       "      <td>139.872778</td>\n",
       "      <td>153.643000</td>\n",
       "    </tr>\n",
       "    <tr>\n",
       "      <th>7</th>\n",
       "      <td>161.396741</td>\n",
       "      <td>131.045296</td>\n",
       "      <td>126.012519</td>\n",
       "      <td>182.835370</td>\n",
       "      <td>252.812296</td>\n",
       "      <td>137.152185</td>\n",
       "      <td>143.997815</td>\n",
       "      <td>181.621111</td>\n",
       "      <td>140.108926</td>\n",
       "      <td>178.370185</td>\n",
       "      <td>125.596926</td>\n",
       "      <td>184.726407</td>\n",
       "      <td>198.381519</td>\n",
       "      <td>201.521704</td>\n",
       "      <td>167.111259</td>\n",
       "      <td>117.782741</td>\n",
       "      <td>144.589037</td>\n",
       "      <td>161.644148</td>\n",
       "      <td>263.149926</td>\n",
       "      <td>219.629556</td>\n",
       "    </tr>\n",
       "    <tr>\n",
       "      <th>8</th>\n",
       "      <td>146.837630</td>\n",
       "      <td>131.998444</td>\n",
       "      <td>241.655296</td>\n",
       "      <td>188.179000</td>\n",
       "      <td>160.291704</td>\n",
       "      <td>159.313852</td>\n",
       "      <td>110.162852</td>\n",
       "      <td>171.311222</td>\n",
       "      <td>271.782481</td>\n",
       "      <td>127.683444</td>\n",
       "      <td>221.317074</td>\n",
       "      <td>229.384333</td>\n",
       "      <td>87.666963</td>\n",
       "      <td>84.785481</td>\n",
       "      <td>180.053852</td>\n",
       "      <td>216.886222</td>\n",
       "      <td>101.419222</td>\n",
       "      <td>161.597222</td>\n",
       "      <td>116.193148</td>\n",
       "      <td>152.607778</td>\n",
       "    </tr>\n",
       "    <tr>\n",
       "      <th>9</th>\n",
       "      <td>111.592370</td>\n",
       "      <td>139.044148</td>\n",
       "      <td>88.145630</td>\n",
       "      <td>98.156333</td>\n",
       "      <td>105.370778</td>\n",
       "      <td>129.810852</td>\n",
       "      <td>142.064593</td>\n",
       "      <td>60.766333</td>\n",
       "      <td>129.865630</td>\n",
       "      <td>134.961963</td>\n",
       "      <td>109.019926</td>\n",
       "      <td>68.763000</td>\n",
       "      <td>78.236259</td>\n",
       "      <td>124.259000</td>\n",
       "      <td>113.743259</td>\n",
       "      <td>110.356815</td>\n",
       "      <td>115.965704</td>\n",
       "      <td>92.394741</td>\n",
       "      <td>114.111852</td>\n",
       "      <td>102.937667</td>\n",
       "    </tr>\n",
       "    <tr>\n",
       "      <th>10</th>\n",
       "      <td>95.294185</td>\n",
       "      <td>121.102444</td>\n",
       "      <td>200.516444</td>\n",
       "      <td>195.917556</td>\n",
       "      <td>178.627481</td>\n",
       "      <td>209.025519</td>\n",
       "      <td>215.057741</td>\n",
       "      <td>141.522259</td>\n",
       "      <td>174.450407</td>\n",
       "      <td>145.385741</td>\n",
       "      <td>147.012222</td>\n",
       "      <td>231.110370</td>\n",
       "      <td>147.982111</td>\n",
       "      <td>174.074148</td>\n",
       "      <td>105.015148</td>\n",
       "      <td>137.097815</td>\n",
       "      <td>204.179148</td>\n",
       "      <td>166.649074</td>\n",
       "      <td>161.143889</td>\n",
       "      <td>133.339222</td>\n",
       "    </tr>\n",
       "    <tr>\n",
       "      <th>11</th>\n",
       "      <td>100.374000</td>\n",
       "      <td>129.458148</td>\n",
       "      <td>102.653074</td>\n",
       "      <td>120.311222</td>\n",
       "      <td>148.044667</td>\n",
       "      <td>214.585037</td>\n",
       "      <td>211.447370</td>\n",
       "      <td>184.695630</td>\n",
       "      <td>104.849259</td>\n",
       "      <td>112.743000</td>\n",
       "      <td>115.765259</td>\n",
       "      <td>181.963704</td>\n",
       "      <td>189.055222</td>\n",
       "      <td>157.813630</td>\n",
       "      <td>201.043185</td>\n",
       "      <td>140.606000</td>\n",
       "      <td>198.061259</td>\n",
       "      <td>149.426593</td>\n",
       "      <td>173.795407</td>\n",
       "      <td>230.273296</td>\n",
       "    </tr>\n",
       "    <tr>\n",
       "      <th>12</th>\n",
       "      <td>75.681741</td>\n",
       "      <td>83.967074</td>\n",
       "      <td>48.487370</td>\n",
       "      <td>86.846667</td>\n",
       "      <td>137.971370</td>\n",
       "      <td>151.269222</td>\n",
       "      <td>162.931037</td>\n",
       "      <td>68.278333</td>\n",
       "      <td>51.875185</td>\n",
       "      <td>107.376926</td>\n",
       "      <td>83.028000</td>\n",
       "      <td>107.910630</td>\n",
       "      <td>127.570926</td>\n",
       "      <td>131.344000</td>\n",
       "      <td>137.707704</td>\n",
       "      <td>141.044667</td>\n",
       "      <td>137.675111</td>\n",
       "      <td>151.426741</td>\n",
       "      <td>138.551000</td>\n",
       "      <td>NaN</td>\n",
       "    </tr>\n",
       "  </tbody>\n",
       "</table>\n",
       "</div>"
      ],
      "text/plain": [
       "year         1998        1999        2000        2001        2002        2003  \\\n",
       "month                                                                           \n",
       "1        0.000000   40.037037   28.814815   20.259259   61.259259  188.555556   \n",
       "2        0.000000   47.555556   20.777778   39.222222   58.148148   88.814815   \n",
       "3        0.000000   24.703704   31.407407    5.966963   62.185185   59.967815   \n",
       "4        0.000000   26.555556   19.888889   40.037037   62.296296   99.148148   \n",
       "5        0.000000   67.111111   33.488667   33.266407   47.871407   64.703704   \n",
       "6       50.081519   53.081519   71.161407   65.728333  109.958444   81.381963   \n",
       "7      161.396741  131.045296  126.012519  182.835370  252.812296  137.152185   \n",
       "8      146.837630  131.998444  241.655296  188.179000  160.291704  159.313852   \n",
       "9      111.592370  139.044148   88.145630   98.156333  105.370778  129.810852   \n",
       "10      95.294185  121.102444  200.516444  195.917556  178.627481  209.025519   \n",
       "11     100.374000  129.458148  102.653074  120.311222  148.044667  214.585037   \n",
       "12      75.681741   83.967074   48.487370   86.846667  137.971370  151.269222   \n",
       "\n",
       "year         2004        2005        2006        2007        2008        2009  \\\n",
       "month                                                                           \n",
       "1      100.185185  119.398815  120.555556  113.148148   78.703704  105.481481   \n",
       "2       46.481481   79.740741   61.703704   64.851852   47.222222   42.222222   \n",
       "3       75.555556   63.185185   65.703704   79.111111   45.888889   51.555556   \n",
       "4       49.444444   37.444444   29.333333   15.370370   46.407407   39.925926   \n",
       "5       41.644926   58.171889   29.925926   47.629630   20.481481   96.037037   \n",
       "6      125.218222  130.344222   72.888889   96.975519   47.666667  109.703704   \n",
       "7      143.997815  181.621111  140.108926  178.370185  125.596926  184.726407   \n",
       "8      110.162852  171.311222  271.782481  127.683444  221.317074  229.384333   \n",
       "9      142.064593   60.766333  129.865630  134.961963  109.019926   68.763000   \n",
       "10     215.057741  141.522259  174.450407  145.385741  147.012222  231.110370   \n",
       "11     211.447370  184.695630  104.849259  112.743000  115.765259  181.963704   \n",
       "12     162.931037   68.278333   51.875185  107.376926   83.028000  107.910630   \n",
       "\n",
       "year         2010        2011        2012        2013        2014        2015  \\\n",
       "month                                                                           \n",
       "1      105.592593   52.444444   92.259259   75.740741   97.518519  171.666667   \n",
       "2       88.370370   36.037037   53.185185   58.777778   57.296296   85.518519   \n",
       "3       89.518519   34.703704   76.222222   72.925926   82.370370   81.555556   \n",
       "4       81.481481   42.666667   81.222222   50.814815   87.333333   95.296296   \n",
       "5       80.937519   73.518519  120.000000   80.185185  118.111111   88.296296   \n",
       "6       96.963889  169.555556  157.061148   99.489370  122.932111  120.761185   \n",
       "7      198.381519  201.521704  167.111259  117.782741  144.589037  161.644148   \n",
       "8       87.666963   84.785481  180.053852  216.886222  101.419222  161.597222   \n",
       "9       78.236259  124.259000  113.743259  110.356815  115.965704   92.394741   \n",
       "10     147.982111  174.074148  105.015148  137.097815  204.179148  166.649074   \n",
       "11     189.055222  157.813630  201.043185  140.606000  198.061259  149.426593   \n",
       "12     127.570926  131.344000  137.707704  141.044667  137.675111  151.426741   \n",
       "\n",
       "year         2016        2017  \n",
       "month                          \n",
       "1      107.632444   86.000000  \n",
       "2      114.742593   51.851852  \n",
       "3       60.450593   74.703704  \n",
       "4       81.621111   57.740741  \n",
       "5       92.151148   92.814815  \n",
       "6      139.872778  153.643000  \n",
       "7      263.149926  219.629556  \n",
       "8      116.193148  152.607778  \n",
       "9      114.111852  102.937667  \n",
       "10     161.143889  133.339222  \n",
       "11     173.795407  230.273296  \n",
       "12     138.551000         NaN  "
      ]
     },
     "execution_count": 467,
     "metadata": {},
     "output_type": "execute_result"
    }
   ],
   "source": [
    "months = df.pivot_table(values='number',index='month',columns='year')\n",
    "months"
   ]
  },
  {
   "cell_type": "markdown",
   "metadata": {},
   "source": [
    "This heatmap shows that the concentration is higher from july to december "
   ]
  },
  {
   "cell_type": "code",
   "execution_count": 468,
   "metadata": {},
   "outputs": [
    {
     "data": {
      "image/png": "[encoded data removed]",
      "text/plain": [
       "<Figure size 432x288 with 2 Axes>"
      ]
     },
     "metadata": {
      "needs_background": "light"
     },
     "output_type": "display_data"
    }
   ],
   "source": [
    "sns.heatmap(months,cmap = \"RdBu_r\")\n",
    "plt.title('Concentration of fires per month')\n",
    "plt.savefig('corr_fire_month.png')"
   ]
  },
  {
   "cell_type": "code",
   "execution_count": 409,
   "metadata": {},
   "outputs": [],
   "source": [
    "bov=pd.read_csv('bovinos.csv', sep=\"\\t\") #head count "
   ]
  },
  {
   "cell_type": "code",
   "execution_count": 410,
   "metadata": {},
   "outputs": [],
   "source": [
    "corn=pd.read_csv('milho.csv', sep=\"\\t\") #tons"
   ]
  },
  {
   "cell_type": "code",
   "execution_count": 411,
   "metadata": {},
   "outputs": [],
   "source": [
    "soy=pd.read_csv('soja.csv', sep=\"\\t\") #tons"
   ]
  },
  {
   "cell_type": "code",
   "execution_count": 412,
   "metadata": {},
   "outputs": [],
   "source": [
    "bov.drop('Código', axis=1, inplace=True)"
   ]
  },
  {
   "cell_type": "code",
   "execution_count": 413,
   "metadata": {},
   "outputs": [],
   "source": [
    "corn.drop('Código', axis=1, inplace=True)"
   ]
  },
  {
   "cell_type": "code",
   "execution_count": 414,
   "metadata": {},
   "outputs": [],
   "source": [
    "soy.drop('Código', axis=1, inplace=True)"
   ]
  },
  {
   "cell_type": "markdown",
   "metadata": {},
   "source": [
    "Merge tables 'corn','soy' and 'cattle' production"
   ]
  },
  {
   "cell_type": "code",
   "execution_count": 415,
   "metadata": {},
   "outputs": [],
   "source": [
    "agro=(corn.merge(soy, on='Nome')).merge(bov, on='Nome')"
   ]
  },
  {
   "cell_type": "code",
   "execution_count": 416,
   "metadata": {},
   "outputs": [],
   "source": [
    "agro.columns=['state','soy','corn','cattle']"
   ]
  },
  {
   "cell_type": "code",
   "execution_count": 417,
   "metadata": {},
   "outputs": [
    {
     "data": {
      "text/html": [
       "<div>\n",
       "<style scoped>\n",
       "    .dataframe tbody tr th:only-of-type {\n",
       "        vertical-align: middle;\n",
       "    }\n",
       "\n",
       "    .dataframe tbody tr th {\n",
       "        vertical-align: top;\n",
       "    }\n",
       "\n",
       "    .dataframe thead th {\n",
       "        text-align: right;\n",
       "    }\n",
       "</style>\n",
       "<table border=\"1\" class=\"dataframe\">\n",
       "  <thead>\n",
       "    <tr style=\"text-align: right;\">\n",
       "      <th></th>\n",
       "      <th>state</th>\n",
       "      <th>soy</th>\n",
       "      <th>corn</th>\n",
       "      <th>cattle</th>\n",
       "    </tr>\n",
       "  </thead>\n",
       "  <tbody>\n",
       "    <tr>\n",
       "      <th>22</th>\n",
       "      <td>Roraima</td>\n",
       "      <td>15.746</td>\n",
       "      <td>79.469</td>\n",
       "      <td>674.501</td>\n",
       "    </tr>\n",
       "    <tr>\n",
       "      <th>23</th>\n",
       "      <td>Santa Catarina</td>\n",
       "      <td>2.952.313</td>\n",
       "      <td>1.913.892</td>\n",
       "      <td>3.725.827</td>\n",
       "    </tr>\n",
       "    <tr>\n",
       "      <th>24</th>\n",
       "      <td>Sergipe</td>\n",
       "      <td>166.304</td>\n",
       "      <td>X</td>\n",
       "      <td>886.459</td>\n",
       "    </tr>\n",
       "    <tr>\n",
       "      <th>25</th>\n",
       "      <td>São Paulo</td>\n",
       "      <td>4.551.967</td>\n",
       "      <td>4.219.449</td>\n",
       "      <td>8.328.671</td>\n",
       "    </tr>\n",
       "    <tr>\n",
       "      <th>26</th>\n",
       "      <td>Tocantins</td>\n",
       "      <td>648.768</td>\n",
       "      <td>1.887.840</td>\n",
       "      <td>6.340.469</td>\n",
       "    </tr>\n",
       "  </tbody>\n",
       "</table>\n",
       "</div>"
      ],
      "text/plain": [
       "             state        soy       corn     cattle\n",
       "22         Roraima     15.746     79.469    674.501\n",
       "23  Santa Catarina  2.952.313  1.913.892  3.725.827\n",
       "24         Sergipe    166.304          X    886.459\n",
       "25       São Paulo  4.551.967  4.219.449  8.328.671\n",
       "26       Tocantins    648.768  1.887.840  6.340.469"
      ]
     },
     "execution_count": 417,
     "metadata": {},
     "output_type": "execute_result"
    }
   ],
   "source": [
    "agro.tail()"
   ]
  },
  {
   "cell_type": "code",
   "execution_count": 32,
   "metadata": {},
   "outputs": [
    {
     "ename": "NameError",
     "evalue": "name 'agro' is not defined",
     "output_type": "error",
     "traceback": [
      "\u001b[1;31m---------------------------------------------------------------------------\u001b[0m",
      "\u001b[1;31mNameError\u001b[0m                                 Traceback (most recent call last)",
      "\u001b[1;32m<ipython-input-32-3d5e4eac2ff2>\u001b[0m in \u001b[0;36m<module>\u001b[1;34m\u001b[0m\n\u001b[1;32m----> 1\u001b[1;33m \u001b[0magro\u001b[0m\u001b[1;33m.\u001b[0m\u001b[0mstate\u001b[0m\u001b[1;33m\u001b[0m\u001b[1;33m\u001b[0m\u001b[0m\n\u001b[0m",
      "\u001b[1;31mNameError\u001b[0m: name 'agro' is not defined"
     ]
    }
   ],
   "source": [
    "agro.state"
   ]
  },
  {
   "cell_type": "markdown",
   "metadata": {},
   "source": [
    "Replace 'X' with null value"
   ]
  },
  {
   "cell_type": "code",
   "execution_count": 419,
   "metadata": {},
   "outputs": [],
   "source": [
    "agro.replace('X',0, inplace=True)"
   ]
  },
  {
   "cell_type": "code",
   "execution_count": 448,
   "metadata": {},
   "outputs": [
    {
     "name": "stdout",
     "output_type": "stream",
     "text": [
      "<class 'pandas.core.frame.DataFrame'>\n",
      "Int64Index: 27 entries, 0 to 26\n",
      "Data columns (total 4 columns):\n",
      "state     27 non-null object\n",
      "soy       27 non-null float64\n",
      "corn      20 non-null float64\n",
      "cattle    27 non-null float64\n",
      "dtypes: float64(3), object(1)\n",
      "memory usage: 1.1+ KB\n"
     ]
    }
   ],
   "source": [
    "agro.info()"
   ]
  },
  {
   "cell_type": "markdown",
   "metadata": {},
   "source": [
    "Create function to remove '.' and convert it to float number"
   ]
  },
  {
   "cell_type": "code",
   "execution_count": 447,
   "metadata": {},
   "outputs": [],
   "source": [
    "def convert_num(data):\n",
    "    agro[data]=agro[data].str.replace(r'.','').astype(float)"
   ]
  },
  {
   "cell_type": "code",
   "execution_count": 421,
   "metadata": {},
   "outputs": [],
   "source": [
    "datas=['soy','corn','cattle']\n",
    "for i in datas:\n",
    "    convert_num(i)"
   ]
  },
  {
   "cell_type": "code",
   "execution_count": 422,
   "metadata": {},
   "outputs": [
    {
     "data": {
      "text/html": [
       "<div>\n",
       "<style scoped>\n",
       "    .dataframe tbody tr th:only-of-type {\n",
       "        vertical-align: middle;\n",
       "    }\n",
       "\n",
       "    .dataframe tbody tr th {\n",
       "        vertical-align: top;\n",
       "    }\n",
       "\n",
       "    .dataframe thead th {\n",
       "        text-align: right;\n",
       "    }\n",
       "</style>\n",
       "<table border=\"1\" class=\"dataframe\">\n",
       "  <thead>\n",
       "    <tr style=\"text-align: right;\">\n",
       "      <th></th>\n",
       "      <th>state</th>\n",
       "      <th>soy</th>\n",
       "      <th>corn</th>\n",
       "      <th>cattle</th>\n",
       "    </tr>\n",
       "  </thead>\n",
       "  <tbody>\n",
       "    <tr>\n",
       "      <th>0</th>\n",
       "      <td>Acre</td>\n",
       "      <td>57918.0</td>\n",
       "      <td>NaN</td>\n",
       "      <td>2133001.0</td>\n",
       "    </tr>\n",
       "    <tr>\n",
       "      <th>1</th>\n",
       "      <td>Alagoas</td>\n",
       "      <td>43785.0</td>\n",
       "      <td>813.0</td>\n",
       "      <td>785836.0</td>\n",
       "    </tr>\n",
       "    <tr>\n",
       "      <th>2</th>\n",
       "      <td>Amapá</td>\n",
       "      <td>1332.0</td>\n",
       "      <td>33482.0</td>\n",
       "      <td>36481.0</td>\n",
       "    </tr>\n",
       "    <tr>\n",
       "      <th>3</th>\n",
       "      <td>Amazonas</td>\n",
       "      <td>10124.0</td>\n",
       "      <td>NaN</td>\n",
       "      <td>1253852.0</td>\n",
       "    </tr>\n",
       "    <tr>\n",
       "      <th>4</th>\n",
       "      <td>Bahia</td>\n",
       "      <td>2193500.0</td>\n",
       "      <td>4904810.0</td>\n",
       "      <td>8171185.0</td>\n",
       "    </tr>\n",
       "  </tbody>\n",
       "</table>\n",
       "</div>"
      ],
      "text/plain": [
       "      state        soy       corn     cattle\n",
       "0      Acre    57918.0        NaN  2133001.0\n",
       "1   Alagoas    43785.0      813.0   785836.0\n",
       "2     Amapá     1332.0    33482.0    36481.0\n",
       "3  Amazonas    10124.0        NaN  1253852.0\n",
       "4     Bahia  2193500.0  4904810.0  8171185.0"
      ]
     },
     "execution_count": 422,
     "metadata": {},
     "output_type": "execute_result"
    }
   ],
   "source": [
    "agro.head()"
   ]
  },
  {
   "cell_type": "markdown",
   "metadata": {},
   "source": [
    "Select year=2016 from fires table to compare with farming data"
   ]
  },
  {
   "cell_type": "code",
   "execution_count": 449,
   "metadata": {},
   "outputs": [],
   "source": [
    "mask=df['year']=='2016'"
   ]
  },
  {
   "cell_type": "code",
   "execution_count": 450,
   "metadata": {},
   "outputs": [],
   "source": [
    "df_2016=df[mask].groupby(['state']).sum().reset_index()"
   ]
  },
  {
   "cell_type": "code",
   "execution_count": 451,
   "metadata": {},
   "outputs": [
    {
     "data": {
      "text/html": [
       "<div>\n",
       "<style scoped>\n",
       "    .dataframe tbody tr th:only-of-type {\n",
       "        vertical-align: middle;\n",
       "    }\n",
       "\n",
       "    .dataframe tbody tr th {\n",
       "        vertical-align: top;\n",
       "    }\n",
       "\n",
       "    .dataframe thead th {\n",
       "        text-align: right;\n",
       "    }\n",
       "</style>\n",
       "<table border=\"1\" class=\"dataframe\">\n",
       "  <thead>\n",
       "    <tr style=\"text-align: right;\">\n",
       "      <th></th>\n",
       "      <th>state</th>\n",
       "      <th>month</th>\n",
       "      <th>number</th>\n",
       "    </tr>\n",
       "  </thead>\n",
       "  <tbody>\n",
       "    <tr>\n",
       "      <th>0</th>\n",
       "      <td>Acre</td>\n",
       "      <td>78</td>\n",
       "      <td>1224.774</td>\n",
       "    </tr>\n",
       "    <tr>\n",
       "      <th>1</th>\n",
       "      <td>Alagoas</td>\n",
       "      <td>78</td>\n",
       "      <td>400.000</td>\n",
       "    </tr>\n",
       "    <tr>\n",
       "      <th>2</th>\n",
       "      <td>Amapá</td>\n",
       "      <td>78</td>\n",
       "      <td>1493.161</td>\n",
       "    </tr>\n",
       "    <tr>\n",
       "      <th>3</th>\n",
       "      <td>Amazonas</td>\n",
       "      <td>78</td>\n",
       "      <td>2060.972</td>\n",
       "    </tr>\n",
       "    <tr>\n",
       "      <th>4</th>\n",
       "      <td>Bahia</td>\n",
       "      <td>78</td>\n",
       "      <td>3520.234</td>\n",
       "    </tr>\n",
       "  </tbody>\n",
       "</table>\n",
       "</div>"
      ],
      "text/plain": [
       "      state  month    number\n",
       "0      Acre     78  1224.774\n",
       "1   Alagoas     78   400.000\n",
       "2     Amapá     78  1493.161\n",
       "3  Amazonas     78  2060.972\n",
       "4     Bahia     78  3520.234"
      ]
     },
     "execution_count": 451,
     "metadata": {},
     "output_type": "execute_result"
    }
   ],
   "source": [
    "df_2016.head()"
   ]
  },
  {
   "cell_type": "markdown",
   "metadata": {},
   "source": [
    "Merge fires and farming table"
   ]
  },
  {
   "cell_type": "code",
   "execution_count": 220,
   "metadata": {},
   "outputs": [],
   "source": [
    "df_agro=df_2016.merge(agro, on='state')\n",
    "df_agro.drop('month', axis=1, inplace=True)"
   ]
  },
  {
   "cell_type": "code",
   "execution_count": 251,
   "metadata": {},
   "outputs": [
    {
     "data": {
      "text/html": [
       "<div>\n",
       "<style scoped>\n",
       "    .dataframe tbody tr th:only-of-type {\n",
       "        vertical-align: middle;\n",
       "    }\n",
       "\n",
       "    .dataframe tbody tr th {\n",
       "        vertical-align: top;\n",
       "    }\n",
       "\n",
       "    .dataframe thead th {\n",
       "        text-align: right;\n",
       "    }\n",
       "</style>\n",
       "<table border=\"1\" class=\"dataframe\">\n",
       "  <thead>\n",
       "    <tr style=\"text-align: right;\">\n",
       "      <th></th>\n",
       "      <th>state</th>\n",
       "      <th>number</th>\n",
       "      <th>soy</th>\n",
       "      <th>corn</th>\n",
       "      <th>cattle</th>\n",
       "    </tr>\n",
       "  </thead>\n",
       "  <tbody>\n",
       "    <tr>\n",
       "      <th>0</th>\n",
       "      <td>Acre</td>\n",
       "      <td>1224</td>\n",
       "      <td>57918</td>\n",
       "      <td>NaN</td>\n",
       "      <td>2133001</td>\n",
       "    </tr>\n",
       "    <tr>\n",
       "      <th>1</th>\n",
       "      <td>Alagoas</td>\n",
       "      <td>400</td>\n",
       "      <td>43785</td>\n",
       "      <td>813.0</td>\n",
       "      <td>785836</td>\n",
       "    </tr>\n",
       "    <tr>\n",
       "      <th>2</th>\n",
       "      <td>Amapá</td>\n",
       "      <td>1493</td>\n",
       "      <td>1332</td>\n",
       "      <td>33482.0</td>\n",
       "      <td>36481</td>\n",
       "    </tr>\n",
       "    <tr>\n",
       "      <th>3</th>\n",
       "      <td>Amazonas</td>\n",
       "      <td>2060</td>\n",
       "      <td>10124</td>\n",
       "      <td>NaN</td>\n",
       "      <td>1253852</td>\n",
       "    </tr>\n",
       "    <tr>\n",
       "      <th>4</th>\n",
       "      <td>Bahia</td>\n",
       "      <td>3519</td>\n",
       "      <td>2193500</td>\n",
       "      <td>4904810.0</td>\n",
       "      <td>8171185</td>\n",
       "    </tr>\n",
       "  </tbody>\n",
       "</table>\n",
       "</div>"
      ],
      "text/plain": [
       "      state  number      soy       corn   cattle\n",
       "0      Acre    1224    57918        NaN  2133001\n",
       "1   Alagoas     400    43785      813.0   785836\n",
       "2     Amapá    1493     1332    33482.0    36481\n",
       "3  Amazonas    2060    10124        NaN  1253852\n",
       "4     Bahia    3519  2193500  4904810.0  8171185"
      ]
     },
     "execution_count": 251,
     "metadata": {},
     "output_type": "execute_result"
    }
   ],
   "source": [
    "df_agro.head()"
   ]
  },
  {
   "cell_type": "markdown",
   "metadata": {},
   "source": [
    "Correlation between number of fires and farming"
   ]
  },
  {
   "cell_type": "code",
   "execution_count": 225,
   "metadata": {},
   "outputs": [
    {
     "data": {
      "text/html": [
       "<div>\n",
       "<style scoped>\n",
       "    .dataframe tbody tr th:only-of-type {\n",
       "        vertical-align: middle;\n",
       "    }\n",
       "\n",
       "    .dataframe tbody tr th {\n",
       "        vertical-align: top;\n",
       "    }\n",
       "\n",
       "    .dataframe thead th {\n",
       "        text-align: right;\n",
       "    }\n",
       "</style>\n",
       "<table border=\"1\" class=\"dataframe\">\n",
       "  <thead>\n",
       "    <tr style=\"text-align: right;\">\n",
       "      <th></th>\n",
       "      <th>number</th>\n",
       "      <th>soy</th>\n",
       "      <th>corn</th>\n",
       "      <th>cattle</th>\n",
       "    </tr>\n",
       "  </thead>\n",
       "  <tbody>\n",
       "    <tr>\n",
       "      <th>number</th>\n",
       "      <td>1.000000</td>\n",
       "      <td>0.295930</td>\n",
       "      <td>0.239234</td>\n",
       "      <td>0.497136</td>\n",
       "    </tr>\n",
       "    <tr>\n",
       "      <th>soy</th>\n",
       "      <td>0.295930</td>\n",
       "      <td>1.000000</td>\n",
       "      <td>0.926600</td>\n",
       "      <td>0.777025</td>\n",
       "    </tr>\n",
       "    <tr>\n",
       "      <th>corn</th>\n",
       "      <td>0.239234</td>\n",
       "      <td>0.926600</td>\n",
       "      <td>1.000000</td>\n",
       "      <td>0.686179</td>\n",
       "    </tr>\n",
       "    <tr>\n",
       "      <th>cattle</th>\n",
       "      <td>0.497136</td>\n",
       "      <td>0.777025</td>\n",
       "      <td>0.686179</td>\n",
       "      <td>1.000000</td>\n",
       "    </tr>\n",
       "  </tbody>\n",
       "</table>\n",
       "</div>"
      ],
      "text/plain": [
       "          number       soy      corn    cattle\n",
       "number  1.000000  0.295930  0.239234  0.497136\n",
       "soy     0.295930  1.000000  0.926600  0.777025\n",
       "corn    0.239234  0.926600  1.000000  0.686179\n",
       "cattle  0.497136  0.777025  0.686179  1.000000"
      ]
     },
     "execution_count": 225,
     "metadata": {},
     "output_type": "execute_result"
    }
   ],
   "source": [
    "df_agro.corr()"
   ]
  },
  {
   "cell_type": "markdown",
   "metadata": {},
   "source": [
    "Correlation heatmap"
   ]
  },
  {
   "cell_type": "code",
   "execution_count": 470,
   "metadata": {},
   "outputs": [
    {
     "data": {
      "image/png": "[encoded data removed]",
      "text/plain": [
       "<Figure size 432x288 with 2 Axes>"
      ]
     },
     "metadata": {
      "needs_background": "light"
     },
     "output_type": "display_data"
    }
   ],
   "source": [
    "sns.heatmap(df_agro.corr(),annot=True)\n",
    "plt.title('Correlation Fire-Farming')\n",
    "plt.savefig('corr_fire_farm.png')"
   ]
  },
  {
   "cell_type": "markdown",
   "metadata": {},
   "source": [
    "Bar graphs comparing each production with the number of fires"
   ]
  },
  {
   "cell_type": "code",
   "execution_count": 472,
   "metadata": {},
   "outputs": [
    {
     "data": {
      "image/png": "[encoded data removed]",
      "text/plain": [
       "<Figure size 1440x720 with 4 Axes>"
      ]
     },
     "metadata": {
      "needs_background": "light"
     },
     "output_type": "display_data"
    }
   ],
   "source": [
    "fig, axes = plt.subplots(nrows=4, sharex=True, figsize=(20,10))\n",
    "axes[0].bar('state','soy',data=df_agro)\n",
    "axes[0].set_title(\"Soy\")\n",
    "axes[1].bar('state','corn',data=df_agro)\n",
    "axes[1].set_title(\"Corn\")\n",
    "axes[2].bar('state','cattle',data=df_agro)\n",
    "axes[2].set_title(\"Cattle\")\n",
    "axes[3].bar('state','number',data=df_agro)\n",
    "axes[3].set_title(\"Fire points\")\n",
    "plt.xticks(rotation=90)\n",
    "fig.tight_layout()\n",
    "plt.savefig('comparative.png')"
   ]
  },
  {
   "cell_type": "code",
   "execution_count": null,
   "metadata": {},
   "outputs": [],
   "source": []
  }
 ],
 "metadata": {
  "kernelspec": {
   "display_name": "Python 3",
   "language": "python",
   "name": "python3"
  },
  "language_info": {
   "codemirror_mode": {
    "name": "ipython",
    "version": 3
   },
   "file_extension": ".py",
   "mimetype": "text/x-python",
   "name": "python",
   "nbconvert_exporter": "python",
   "pygments_lexer": "ipython3",
   "version": "3.7.3"
  }
 },
 "nbformat": 4,
 "nbformat_minor": 2
}
